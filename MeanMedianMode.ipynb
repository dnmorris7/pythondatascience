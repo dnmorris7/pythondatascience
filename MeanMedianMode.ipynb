{
 "cells": [
  {
   "cell_type": "markdown",
   "metadata": {},
   "source": [
    "# Mean, Median, Mode, and introducing NumPy"
   ]
  },
  {
   "cell_type": "markdown",
   "metadata": {},
   "source": [
    "## Mean vs. Median"
   ]
  },
  {
   "cell_type": "markdown",
   "metadata": {},
   "source": [
    "Let's create some fake income data, centered around 27,000 with a normal distribution and standard deviation of 15,000, with 10,000 data points. (We'll discuss those terms more later, if you're not familiar with them.)\n",
    "\n",
    "Then, compute the mean (average) - it should be close to 27,000:"
   ]
  },
  {
   "cell_type": "code",
   "execution_count": 4,
   "metadata": {
    "collapsed": false
   },
   "outputs": [
    {
     "data": {
      "text/plain": [
       "26957.811729012537"
      ]
     },
     "execution_count": 4,
     "metadata": {},
     "output_type": "execute_result"
    }
   ],
   "source": [
    "import numpy as np\n",
    "\n",
    "incomes = np.random.normal(27000, 15000, 10000)\n",
    "np.mean(incomes)"
   ]
  },
  {
   "cell_type": "markdown",
   "metadata": {},
   "source": [
    "We can segment the income data into 50 buckets, and plot it as a histogram:"
   ]
  },
  {
   "cell_type": "code",
   "execution_count": 2,
   "metadata": {
    "collapsed": false
   },
   "outputs": [
    {
     "data": {
      "image/png": "[encoded data removed]",
      "text/plain": [
       "<matplotlib.figure.Figure at 0x44ffdd8>"
      ]
     },
     "metadata": {},
     "output_type": "display_data"
    }
   ],
   "source": [
    "%matplotlib inline\n",
    "import matplotlib.pyplot as plt\n",
    "plt.hist(incomes, 50)\n",
    "plt.show()"
   ]
  },
  {
   "cell_type": "markdown",
   "metadata": {},
   "source": [
    "Now compute the median - since we have a nice, even distribution it too should be close to 27,000:"
   ]
  },
  {
   "cell_type": "code",
   "execution_count": 5,
   "metadata": {
    "collapsed": false
   },
   "outputs": [
    {
     "data": {
      "text/plain": [
       "27096.065520257183"
      ]
     },
     "execution_count": 5,
     "metadata": {},
     "output_type": "execute_result"
    }
   ],
   "source": [
    "np.median(incomes)"
   ]
  },
  {
   "cell_type": "markdown",
   "metadata": {},
   "source": [
    "Now we'll add Donald Trump into the mix. Darn income inequality!"
   ]
  },
  {
   "cell_type": "code",
   "execution_count": 6,
   "metadata": {
    "collapsed": false
   },
   "outputs": [],
   "source": [
    "incomes = np.append(incomes, [1000000000])"
   ]
  },
  {
   "cell_type": "markdown",
   "metadata": {},
   "source": [
    "The median won't change much, but the mean does:"
   ]
  },
  {
   "cell_type": "code",
   "execution_count": 7,
   "metadata": {
    "collapsed": false
   },
   "outputs": [
    {
     "data": {
      "text/plain": [
       "27096.199110405872"
      ]
     },
     "execution_count": 7,
     "metadata": {},
     "output_type": "execute_result"
    }
   ],
   "source": [
    "np.median(incomes)"
   ]
  },
  {
   "cell_type": "code",
   "execution_count": 8,
   "metadata": {
    "collapsed": false
   },
   "outputs": [
    {
     "data": {
      "text/plain": [
       "126945.11721729081"
      ]
     },
     "execution_count": 8,
     "metadata": {},
     "output_type": "execute_result"
    }
   ],
   "source": [
    "np.mean(incomes)"
   ]
  },
  {
   "cell_type": "markdown",
   "metadata": {},
   "source": [
    "## Mode"
   ]
  },
  {
   "cell_type": "markdown",
   "metadata": {},
   "source": [
    "Next, let's generate some fake age data for 500 people:"
   ]
  },
  {
   "cell_type": "code",
   "execution_count": 9,
   "metadata": {
    "collapsed": false
   },
   "outputs": [
    {
     "data": {
      "text/plain": [
       "array([37, 47, 33, 37, 32, 82, 81, 25, 62, 85, 72, 82, 71, 21, 57, 87, 64,\n",
       "       48, 47, 33, 80, 38, 48, 63, 50, 19, 75, 46, 66, 52, 70, 81, 28, 20,\n",
       "       44, 70, 44, 89, 85, 23, 19, 27, 82, 54, 28, 39, 73, 75, 74, 50, 87,\n",
       "       28, 42, 55, 33, 61, 46, 76, 88, 71, 48, 22, 59, 69, 29, 71, 57, 40,\n",
       "       52, 61, 54, 18, 58, 23, 59, 77, 41, 45, 52, 71, 71, 61, 71, 29, 75,\n",
       "       75, 59, 87, 47, 20, 53, 23, 78, 49, 61, 63, 46, 73, 52, 82, 45, 37,\n",
       "       50, 42, 46, 36, 49, 37, 36, 52, 65, 19, 66, 55, 86, 22, 22, 73, 78,\n",
       "       39, 45, 26, 84, 66, 51, 36, 65, 53, 22, 50, 77, 35, 34, 77, 88, 23,\n",
       "       52, 43, 69, 52, 71, 89, 58, 77, 74, 57, 85, 41, 66, 35, 49, 77, 83,\n",
       "       40, 50, 67, 53, 42, 43, 76, 87, 83, 71, 88, 74, 74, 47, 65, 57, 85,\n",
       "       64, 30, 75, 56, 70, 47, 43, 77, 88, 87, 30, 80, 57, 69, 30, 20, 78,\n",
       "       49, 66, 50, 19, 29, 41, 44, 40, 51, 72, 58, 60, 86, 27, 62, 63, 47,\n",
       "       87, 24, 72, 79, 23, 40, 59, 83, 28, 54, 59, 83, 73, 71, 36, 26, 80,\n",
       "       51, 30, 63, 36, 56, 32, 54, 83, 82, 70, 67, 86, 78, 74, 31, 65, 58,\n",
       "       85, 44, 88, 21, 62, 70, 62, 30, 54, 60, 65, 67, 86, 34, 79, 74, 35,\n",
       "       68, 78, 30, 48, 46, 25, 23, 23, 87, 78, 45, 31, 29, 53, 64, 28, 22,\n",
       "       30, 48, 67, 60, 54, 22, 77, 64, 67, 82, 76, 86, 57, 55, 20, 53, 52,\n",
       "       20, 30, 59, 20, 57, 60, 66, 78, 75, 29, 82, 21, 18, 77, 43, 79, 32,\n",
       "       37, 81, 26, 71, 76, 88, 36, 84, 48, 56, 41, 89, 84, 53, 55, 75, 86,\n",
       "       66, 25, 60, 46, 87, 81, 38, 69, 30, 89, 26, 81, 49, 77, 47, 64, 44,\n",
       "       71, 73, 54, 66, 67, 62, 79, 46, 56, 33, 87, 57, 34, 44, 70, 78, 48,\n",
       "       20, 46, 61, 67, 73, 53, 74, 59, 66, 44, 62, 35, 46, 29, 81, 65, 57,\n",
       "       58, 33, 22, 26, 26, 27, 19, 22, 50, 24, 57, 37, 43, 42, 84, 46, 45,\n",
       "       76, 50, 53, 58, 85, 20, 33, 60, 73, 25, 47, 40, 57, 50, 23, 32, 65,\n",
       "       77, 64, 69, 79, 36, 41, 28, 76, 30, 54, 52, 29, 86, 84, 56, 84, 50,\n",
       "       66, 83, 40, 53, 61, 87, 83, 42, 29, 25, 65, 32, 55, 62, 32, 54, 55,\n",
       "       82, 22, 48, 25, 42, 37, 45, 56, 41, 85, 85, 22, 30, 22, 65, 72, 58,\n",
       "       23, 18, 82, 85, 56, 30, 25, 25, 82, 61, 34, 33, 45, 69, 66, 66, 64,\n",
       "       48, 36, 47, 72, 26, 57, 87, 79, 57, 46, 36, 63, 54, 31, 83, 76, 83,\n",
       "       34, 51, 51, 24, 38, 88, 49])"
      ]
     },
     "execution_count": 9,
     "metadata": {},
     "output_type": "execute_result"
    }
   ],
   "source": [
    "ages = np.random.randint(18, high=90, size=500)\n",
    "ages"
   ]
  },
  {
   "cell_type": "code",
   "execution_count": 8,
   "metadata": {
    "collapsed": false
   },
   "outputs": [
    {
     "data": {
      "text/plain": [
       "ModeResult(mode=array([50]), count=array([16]))"
      ]
     },
     "execution_count": 8,
     "metadata": {},
     "output_type": "execute_result"
    }
   ],
   "source": [
    "from scipy import stats\n",
    "stats.mode(ages)"
   ]
  },
  {
   "cell_type": "code",
   "execution_count": null,
   "metadata": {
    "collapsed": false
   },
   "outputs": [],
   "source": []
  }
 ],
 "metadata": {
  "kernelspec": {
   "display_name": "Python 2",
   "language": "python",
   "name": "python2"
  },
  "language_info": {
   "codemirror_mode": {
    "name": "ipython",
    "version": 2
   },
   "file_extension": ".py",
   "mimetype": "text/x-python",
   "name": "python",
   "nbconvert_exporter": "python",
   "pygments_lexer": "ipython2",
   "version": "2.7.11"
  }
 },
 "nbformat": 4,
 "nbformat_minor": 0
}
